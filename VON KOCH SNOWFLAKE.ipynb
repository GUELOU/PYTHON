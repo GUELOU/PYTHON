{
 "cells": [
  {
   "cell_type": "markdown",
   "metadata": {},
   "source": [
    "Programme pour dessiner le FLOCON DE VON KOCH"
   ]
  },
  {
   "cell_type": "code",
   "execution_count": null,
   "metadata": {},
   "outputs": [],
   "source": [
    "from turtle import *\n",
    " \n",
    "def koch(longueur, n):\n",
    " \n",
    "    if n == 0:\n",
    "        forward(longueur)\n",
    "    else:\n",
    "        koch(longueur/3, n-1)\n",
    "        left(60)\n",
    "        koch(longueur/3, n-1)\n",
    "        right(120)\n",
    "        koch(longueur/3, n-1)\n",
    "        left(60)\n",
    "        koch(longueur/3, n-1)\n",
    " \n",
    "def flocon(taille, etape):\n",
    "    koch(taille, etape)\n",
    "    right(120)\n",
    "    koch(taille, etape)\n",
    "    right(120)\n",
    "    koch(taille, etape)\n",
    " \n",
    " \n",
    "up()\n",
    "goto(-280, 100)\n",
    "down()\n",
    "speed(0)\n",
    "color(\"blue\")\n",
    " \n",
    "flocon(500, 4)\n",
    " \n",
    "done()"
   ]
  }
 ],
 "metadata": {
  "kernelspec": {
   "display_name": "Python 3",
   "language": "python",
   "name": "python3"
  },
  "language_info": {
   "codemirror_mode": {
    "name": "ipython",
    "version": 3
   },
   "file_extension": ".py",
   "mimetype": "text/x-python",
   "name": "python",
   "nbconvert_exporter": "python",
   "pygments_lexer": "ipython3",
   "version": "3.6.4"
  }
 },
 "nbformat": 4,
 "nbformat_minor": 2
}
