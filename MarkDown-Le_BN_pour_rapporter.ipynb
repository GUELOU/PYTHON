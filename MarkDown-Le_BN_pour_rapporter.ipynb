{
 "cells": [
  {
   "cell_type": "markdown",
   "metadata": {},
   "source": [
    "# Le Bloc Note pour rapporter\n",
    "\n",
    "Dans un notebook jupyter on peut rédiger des commentaires en langage naturel, intégrer des liens hypertextes et des images dans des cellules de type **`Markdown`**.\n",
    "\n",
    "**Markdown** est un langage de description à balisage plus léger que HTML et donc plus rapide pour rédiger et publier un document sur le Web.  \n",
    "Aussi, il est de plus en plus utilisé : incontournable sur [GitHub](https://github.com/ \"lien GitHub\"), les forums d'[OpenClassroom](https://OpenClassroom.fr/ \"lien OpenClassroom\"), de [Stack Overflow](https://fr.wikipedia.org/wiki/Stack_Overflow \"lien Wikipedia Stack Overflow\")...\n",
    "\n",
    "L'idée est de pouvoir mettre en forme du texte sans avoir besoin de recourir à la souris : en même temps que l'on écrit du contenu on indique par des symboles codifiés comment il faut l'afficher...\n",
    "\n",
    "> Pour voir le résultat du code **Markdown** basculer le type des cellules ci-dessous du type **`Raw NBConvert`** en **`Markdown`**, puis appuyer sur **`Maj+Entree`**."
   ]
  },
  {
   "cell_type": "markdown",
   "metadata": {},
   "source": [
    "## Les titres :"
   ]
  },
  {
   "cell_type": "raw",
   "metadata": {},
   "source": [
    "# Titre de niveau 1\n",
    "## Titre de niveau 2\n",
    "### Titre de niveau 3\n",
    "#### Titre de niveau 4\n",
    "##### Titre de niveau 5"
   ]
  },
  {
   "cell_type": "markdown",
   "metadata": {},
   "source": [
    "## Le corps de texte :"
   ]
  },
  {
   "cell_type": "raw",
   "metadata": {},
   "source": [
    "Sed quid est quod in hac causa maxime homines admirentur et reprehendant meum consilium, cum ego idem antea multa decreverim, que magis ad hominis dignitatem quam ad rei publicae necessitatem pertinerent ?\n",
    "Supplicationem quindecim dierum decrevi sententia mea.\n",
    "Rei publicae satis erat tot dierum quot C. Mario ; dis immortalibus non erat exigua eadem gratulatio quae ex maximis bellis.\n",
    "Ergo ille cumulus dierum hominis est dignitati tributus.\n",
    "Et prima post Osdroenam quam, ut dictum est, ab hac descriptione discrevimus, Commagena, nunc Euphratensis, clementer adsurgit, Hierapoli, vetere Nino et Samosata civitatibus amplis inlustris."
   ]
  },
  {
   "cell_type": "markdown",
   "metadata": {},
   "source": [
    "### Retour à la ligne et paragraphes\n",
    "> Dans le [lorem ipsum](https://fr.wikipedia.org/wiki/Faux-texte \"lien wikipedia\") ci-dessus, insérer deux espaces à la fin d'une phrase pour forcer le retour à la ligne et insérer une ligne vide pour former des paragraphes."
   ]
  },
  {
   "cell_type": "markdown",
   "metadata": {},
   "source": [
    "### Italique"
   ]
  },
  {
   "cell_type": "raw",
   "metadata": {},
   "source": [
    "_Texte_ avec *emphase* en Italique"
   ]
  },
  {
   "cell_type": "markdown",
   "metadata": {},
   "source": [
    "### Gras"
   ]
  },
  {
   "cell_type": "raw",
   "metadata": {},
   "source": [
    "__Texte__ plus **important** en Gras"
   ]
  },
  {
   "cell_type": "markdown",
   "metadata": {},
   "source": [
    "### Gras et italique combinés"
   ]
  },
  {
   "cell_type": "raw",
   "metadata": {},
   "source": [
    "**_Texte_** à la fois en **gras** et en *italique*"
   ]
  },
  {
   "cell_type": "markdown",
   "metadata": {},
   "source": [
    "### Barré"
   ]
  },
  {
   "cell_type": "raw",
   "metadata": {
    "collapsed": true
   },
   "source": [
    "Texte barré ~~à supprimer~~"
   ]
  },
  {
   "cell_type": "markdown",
   "metadata": {},
   "source": [
    "> Dans le [lorem ipsum](https://fr.wikipedia.org/wiki/Faux-texte \"lien wikipedia\") ci-dessus, formater certains éléments pour les afficher soit en *italique*, en **gras** ou ~~barré~~.  \n",
    "> <u>Remarque</u> : pour souligner un élément il faudra utiliser un code HTML."
   ]
  },
  {
   "cell_type": "markdown",
   "metadata": {},
   "source": [
    "## Les listes :"
   ]
  },
  {
   "cell_type": "markdown",
   "metadata": {},
   "source": [
    "### Non ordonnée"
   ]
  },
  {
   "cell_type": "raw",
   "metadata": {},
   "source": [
    "* Un élement de ma liste ;\n",
    "* Un autre élément de ma liste ;\n",
    "    * Un élément de ma sous-liste ;\n",
    "    * Un autre élément de ma sous-liste ;\n",
    "* Encore un autre élément de ma liste."
   ]
  },
  {
   "cell_type": "markdown",
   "metadata": {},
   "source": [
    "> Remarque : On peut aussi utiliser un `+` ou `-` à la place de l'`*`."
   ]
  },
  {
   "cell_type": "markdown",
   "metadata": {},
   "source": [
    "### Ordonnée"
   ]
  },
  {
   "cell_type": "raw",
   "metadata": {},
   "source": [
    "1. Le premier élement de ma liste ;\n",
    "1. Le second élément de ma liste ;\n",
    "    1. Le premier élément de ma sous-liste ;\n",
    "    1. Le second élément de ma sous-liste ;\n",
    "1. Le troisième élément de ma liste."
   ]
  },
  {
   "cell_type": "markdown",
   "metadata": {},
   "source": [
    "## Les citations :"
   ]
  },
  {
   "cell_type": "raw",
   "metadata": {},
   "source": [
    "> une citation est un paragraphe ouvert par un chevron fermant"
   ]
  },
  {
   "cell_type": "markdown",
   "metadata": {},
   "source": [
    "## Les traits horizontaux de séparation"
   ]
  },
  {
   "cell_type": "raw",
   "metadata": {},
   "source": [
    "***"
   ]
  },
  {
   "cell_type": "markdown",
   "metadata": {},
   "source": [
    "---"
   ]
  },
  {
   "cell_type": "code",
   "execution_count": null,
   "metadata": {
    "collapsed": true
   },
   "outputs": [],
   "source": []
  },
  {
   "cell_type": "markdown",
   "metadata": {},
   "source": [
    "## Tableau :"
   ]
  },
  {
   "cell_type": "raw",
   "metadata": {},
   "source": [
    "| Tables   |      Are      | Cool |\n",
    "|----------|:-------------:|-----:|\n",
    "| col 1 is |  left-aligned | 1600 |\n",
    "| col 2 is |    centered   |   12 |\n",
    "| col 3 is | right-aligned |    1 |"
   ]
  },
  {
   "cell_type": "markdown",
   "metadata": {},
   "source": [
    "On peut avantageusement utiliser un générateur de tableau comme : https://www.tablesgenerator.com/markdown_tables"
   ]
  },
  {
   "cell_type": "markdown",
   "metadata": {},
   "source": [
    "## Image :"
   ]
  },
  {
   "cell_type": "raw",
   "metadata": {},
   "source": [
    "![Turing's Device](http://www.google.com/logos/2012/turing-doodle-static.jpg \"Alan Turing's 100th Birthday\")"
   ]
  },
  {
   "cell_type": "markdown",
   "metadata": {},
   "source": [
    "## Lien hypertexte :"
   ]
  },
  {
   "cell_type": "raw",
   "metadata": {},
   "source": [
    "http://ecmorlaix.fr/"
   ]
  },
  {
   "cell_type": "raw",
   "metadata": {},
   "source": [
    "Le portail de l'[ECA.M](http://ecmorlaix.fr/ \"Lien vers le portail des Etablissement Catholiques Associés de Morlaix\")"
   ]
  },
  {
   "cell_type": "raw",
   "metadata": {},
   "source": [
    "Le portail de l'[![Turing's Device](http://www.google.com/logos/2012/turing-doodle-static.jpg \"Alan Turing's 100th Birthday\")](http://ecmorlaix.fr/ \"Lien vers le portail des Etablissement Catholiques Associés de Morlaix\")"
   ]
  },
  {
   "cell_type": "markdown",
   "metadata": {},
   "source": [
    "# Code :\n",
    "### Elément de code en ligne"
   ]
  },
  {
   "cell_type": "markdown",
   "metadata": {},
   "source": [
    "Texte avec un `élément de code`."
   ]
  },
  {
   "cell_type": "markdown",
   "metadata": {},
   "source": [
    "### Bloc de code"
   ]
  },
  {
   "cell_type": "raw",
   "metadata": {},
   "source": [
    "```python\n",
    "# Voici un bout de code en Python\n",
    "from numpy import *\n",
    "from numpy.random import *\n",
    "int(rint(rand()*5+1))\n",
    "```"
   ]
  },
  {
   "cell_type": "markdown",
   "metadata": {},
   "source": []
  },
  {
   "cell_type": "markdown",
   "metadata": {},
   "source": [
    "## Ressources :\n",
    "* <https://blog.wax-o.com/2014/04/tutoriel-un-guide-pour-bien-commencer-avec-markdown/>\n",
    "* <https://fr.wikipedia.org/wiki/Markdown>\n",
    "* <https://openclassrooms.com/courses/redigez-en-markdown>\n",
    "* Un éditeur de Markdown en ligne : <https://stackedit.io/> \n",
    "* Une extension de navigateur pour rédiger des mails : <https://markdown-here.com/>\n",
    "\n"
   ]
  },
  {
   "cell_type": "markdown",
   "metadata": {},
   "source": [
    "## A vous de jouer :\n",
    "\n",
    "Saisir votre texte balisé en code Markdown dans la cellule suivante, jupyter affichera le résultat mis en forme automatiquement..."
   ]
  },
  {
   "cell_type": "markdown",
   "metadata": {
    "collapsed": true
   },
   "source": []
  },
  {
   "cell_type": "markdown",
   "metadata": {},
   "source": [
    "<a rel=\"license\" href=\"http://creativecommons.org/licenses/by-sa/4.0/\"><img alt=\"Licence Creative Commons\" style=\"border-width:0\" src=\"https://i.creativecommons.org/l/by-sa/4.0/88x31.png\" /></a><br />Ce document est mis à disposition selon les termes de la <a rel=\"license\" href=\"http://creativecommons.org/licenses/by-sa/4.0/\">Licence Creative Commons Attribution -  Partage dans les Mêmes Conditions 4.0 International</a>.\n",
    "\n",
    "Pour toute question, suggestion ou commentaire : <a href=\"mailto:eric.madec@ecmorlaix.fr\">eric.madec@ecmorlaix.fr</a>"
   ]
  }
 ],
 "metadata": {
  "kernelspec": {
   "display_name": "Python 3",
   "language": "python",
   "name": "python3"
  },
  "language_info": {
   "codemirror_mode": {
    "name": "ipython",
    "version": 3
   },
   "file_extension": ".py",
   "mimetype": "text/x-python",
   "name": "python",
   "nbconvert_exporter": "python",
   "pygments_lexer": "ipython3",
   "version": "3.6.1"
  }
 },
 "nbformat": 4,
 "nbformat_minor": 2
}
