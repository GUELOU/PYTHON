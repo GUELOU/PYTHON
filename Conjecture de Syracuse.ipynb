{
 "cells": [
  {
   "cell_type": "markdown",
   "metadata": {
    "slideshow": {
     "slide_type": "slide"
    }
   },
   "source": [
    "# La conjecture de Syracuse"
   ]
  },
  {
   "cell_type": "markdown",
   "metadata": {
    "slideshow": {
     "slide_type": "subslide"
    }
   },
   "source": [
    "# Présentation du problème\n",
    "La suite de Syracuse est définie comme suit:\n",
    "    Soit N un nombre entier\n",
    "        Si N est pair alors N est remplcé par N/2\n",
    "        Sinon N est remplacé par 3N+1\n",
    "    et ainsi de suite..."
   ]
  },
  {
   "cell_type": "markdown",
   "metadata": {},
   "source": [
    "# Conjecture\n",
    "Quel que soit le nombre entier choisi au départ, il semble que la suite finisse toujours par atteindre le cycle infini 4,2,1..."
   ]
  },
  {
   "cell_type": "markdown",
   "metadata": {},
   "source": [
    "# Simulation\n",
    "A ce jour la conjecture n'a été ni démontrée ni démentie.\n",
    "Cependant la simulation par ordinateur tend à montrer que celle-ci est vraie.\n",
    "Voici un exemple de programme, écrit en langage Python.\n",
    "A vous de le tester en modifiant les paramètres si nécessaires.\n"
   ]
  },
  {
   "cell_type": "code",
   "execution_count": 2,
   "metadata": {
    "slideshow": {
     "slide_type": "-"
    }
   },
   "outputs": [
    {
     "name": "stdout",
     "output_type": "stream",
     "text": [
      "Pour tous les nombres entiers entre 1 et 99\n",
      "Le nombre nécessitant le plus d'étapes pour atteindre 4,2,1 est : 97\n",
      "Le nombre 1 est atteint au bout de 118 étapes\n"
     ]
    }
   ],
   "source": [
    "c=0\n",
    "M=0\n",
    "T=0\n",
    "for n in range (1,100):\n",
    "    u=n\n",
    "    while u>1:\n",
    "        if u%2==0:\n",
    "            u=u/2\n",
    "        else:\n",
    "            u=3*u+1\n",
    "        c=c+1\n",
    "    if c>M:\n",
    "        M=c\n",
    "        T=n\n",
    "    c=0\n",
    "print(\"Pour tous les nombres entiers entre 1 et 99:\")    \n",
    "print(\"Le nombre nécessitant le plus d'étapes pour atteindre 4,2,1 est :\",T)\n",
    "print(\"Le nombre 1 est atteint au bout de\",M,\"étapes.\")\n",
    "        \n",
    "     \n",
    "        "
   ]
  },
  {
   "cell_type": "markdown",
   "metadata": {
    "slideshow": {
     "slide_type": "-"
    }
   },
   "source": [
    "<a rel=\"license\" href=\"http://creativecommons.org/licenses/by-sa/4.0/\"><img alt=\"Licence Creative Commons\" style=\"border-width:0\" src=\"https://i.creativecommons.org/l/by-sa/4.0/88x31.png\" /></a><br />Ce document est mis à disposition selon les termes de la <a rel=\"license\" href=\"http://creativecommons.org/licenses/by-sa/4.0/\">Licence Creative Commons Attribution -  Partage dans les Mêmes Conditions 4.0 International</a>.\n",
    "\n",
    "Pour toute question, suggestion ou commentaire : <a href=\"mailto:eric.madec@ecmorlaix.fr\">eric.madec@ecmorlaix.fr</a>"
   ]
  }
 ],
 "metadata": {
  "kernelspec": {
   "display_name": "Python 3",
   "language": "python",
   "name": "python3"
  },
  "language_info": {
   "codemirror_mode": {
    "name": "ipython",
    "version": 3
   },
   "file_extension": ".py",
   "mimetype": "text/x-python",
   "name": "python",
   "nbconvert_exporter": "python",
   "pygments_lexer": "ipython3",
   "version": "3.6.4"
  }
 },
 "nbformat": 4,
 "nbformat_minor": 2
}
