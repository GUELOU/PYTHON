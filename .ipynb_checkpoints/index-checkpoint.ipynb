{
 "cells": [
  {
   "attachments": {},
   "cell_type": "markdown",
   "metadata": {},
   "source": [
    "Ce document présente une série de Bloc-Notes destinés aux élèves qui suivent les enseignement de Sciences de l'Ingénieur, d'Informatique et Sciences, ou Création, Numérique, de la seconde à la terminale au lycée Notre Dame du Mur de Morlaix.\n",
    "\n",
    "![ECAM-Lycee-Notre-Dame-Du-Mur.png](../images/ECAM-Lycee-Notre-Dame-Du-Mur.png)\n",
    "L'objectif est de présenter ici le potentiel de jupyter notebook pour rédiger un compte rendu scientifique interactif publiable sur le Web."
   ]
  },
  {
   "cell_type": "markdown",
   "metadata": {},
   "source": [
    "# Sommaire\n",
    "\n",
    "1. [Introduction](Introduction-Le_BN_pour_explorer.ipynb) - Un bloc-note pour explorer les fonctionnalités de jupyter notebook\n",
    "1. [Markdown](MarkDown-Le_BN_pour_rapporter.ipynb) - Un bloc-note pour découvrir l'écriture d'un document Web en Markdown dans un jupyter notebook\n",
    "1. [Arithmétique](Arithmetique-Le_BN_pour_calculer.ipynb) - Un bloc-note pour faire faire des calculs mathématiques en Python dans un jupyter notebook\n",
    "1. [HTML](HTML-Le_BN_pour_multimedier.ipynb) - Un bloc-note pour créer un document Web multimédia en HTML dans un jupyter notebook\n",
    "1. [LaTeX](LaTeX-Le_BN_pour_formuler.ipynb) - Un bloc-note pour enrichir un document Web de formules en LaTeX dans un jupyter notebook"
   ]
  },
  {
   "cell_type": "markdown",
   "metadata": {},
   "source": [
    "![ECAM-Logo.png](../images/ECAM-Logo.png)"
   ]
  }
 ],
 "metadata": {
  "kernelspec": {
   "display_name": "Python 3",
   "language": "python",
   "name": "python3"
  },
  "language_info": {
   "codemirror_mode": {
    "name": "ipython",
    "version": 3
   },
   "file_extension": ".py",
   "mimetype": "text/x-python",
   "name": "python",
   "nbconvert_exporter": "python",
   "pygments_lexer": "ipython3",
   "version": "3.6.1"
  }
 },
 "nbformat": 4,
 "nbformat_minor": 2
}
