{
 "cells": [
  {
   "cell_type": "markdown",
   "metadata": {},
   "source": [
    "# Python 3 : Le BN pour s'initier à la programmation scientifique"
   ]
  },
  {
   "cell_type": "markdown",
   "metadata": {},
   "source": [
    "Nous allons découvrir les bases de la programmation en Python 3 en nous appuyant sur un petit programme de calcul et d'affichage des termes d'une suite définie par récurrence tel que :\n",
    "  \n",
    "Soit $(u_n)_{n\\in\\mathbf{N}}$ la suite définie par $\\left\\lbrace\\begin{array}{l} u_n=\\frac{1}{2}\\times u_{n-1}+1 \\text{ pour } n\\gt 1 \\text{ ;} \\\\ u_1=a \\text{ avec } a \\text{, valeur initiale définie par l'utilisateur.}\\\\ \\end{array}\\right.$\n",
    "\n",
    "que l'on peut simuler par ce premier programme :"
   ]
  },
  {
   "cell_type": "code",
   "execution_count": null,
   "metadata": {
    "collapsed": true
   },
   "outputs": [],
   "source": [
    "u=input(\"entrer la valeur du premier terme u1:\")\n",
    "u=int(u)\n",
    "for i in range (1,20):\n",
    "    print(\"u\"+str(i)+\" = \"+str(u))\n",
    "    u=0.5*u+1"
   ]
  },
  {
   "cell_type": "markdown",
   "metadata": {},
   "source": [
    "1) Exécuter ce programme en sélectionnant sa cellule puis en frappant les touches **`<Alt+Entrée>`** et décrire ce qu'il réalise dans la cellule nouvellement créée en la basculant du type **`Code`** au type [**`Markdown`**](MarkDown-Le_BN_pour_rapporter.ipynb) :"
   ]
  },
  {
   "cell_type": "markdown",
   "metadata": {},
   "source": [
    "***  \n",
    "> Ce document est un notebook jupyter, si vous n'êtes pas familiarisé avec cet environnement, regardez cette [Introduction](Introduction-Le_BN_pour_explorer.ipynb).  \n",
    "\n",
    ">Les cellules si dessous sont éditables et exécutables. Vous pouvez exécuter une cellule à l'aide du bouton <button class='fa fa-step-forward icon-step-forward btn btn-xs btn-default'></button> ou en utilisant le menu **`Cell>Run...`** ou encore en vous servant des touches :\n",
    "* **`<Maj+Entrée>`** : le code de la cellule est exécuté et le curseur va à la cellule suivante.\n",
    "* **`<Ctrl+Entrée>`** : le code de la cellule est exécuté et le curseur reste sur la même cellule.\n",
    "* **`<Alt+Entrée>`** : le code de la cellule est exécuté et le notebook crée une nouvelle cellule immédiatement après.\n",
    "\n",
    ">Vous pouvez également ajouter une nouvelle cellule à l'aider du bouton <button class='fa fa-plus icon-plus btn btn-xs btn-default'></button>.\n",
    "\n",
    "> Un des avantages principaux des notebooks est de vous permettre de modifier le code que nous avons écrit, et de voir par vous-même comment se comporte le code modifié.  \n",
    "Pour cette raison chaque élève dispose de sa **propre copie** de chaque notebook, ainsi vous pouvez bien sûr apporter toutes les modifications que vous souhaitez à vos notebooks sans affecter ceux des autres élèves et revenir à la version originale en rechargeant un notebook à partir du lien fourni.\n",
    "\n",
    "***"
   ]
  },
  {
   "cell_type": "markdown",
   "metadata": {},
   "source": [
    "*Dans la suite, détaillons un peu toutes les notions d'informatique qui se cachent dans ce premier programme, découvrons plus avant le langage Python 3 et faisons évoluer notre programme...  *"
   ]
  },
  {
   "cell_type": "markdown",
   "metadata": {},
   "source": [
    "## Généralité :\n",
    "Python est un langage de programmation moderne né en 1991, [multi-plateforme](https://fr.wikipedia.org/wiki/Logiciel_multiplate-forme), [open-source](https://fr.wikipedia.org/wiki/Open_source), [généraliste](https://fr.wikipedia.org/wiki/Langage_d%C3%A9di%C3%A9), [orienté objet](https://fr.wikipedia.org/wiki/Programmation_orient%C3%A9e_objet) et de [haut niveau](https://fr.wikipedia.org/wiki/Langage_de_haut_niveau).  \n",
    "\n",
    "C'est un langage à la fois simple et puissant :\n",
    "* simple car facile à apprendre, son code est réputé concis et clair, sa syntaxe est très proche d'une notation algorithmique, base de toute programmation.\n",
    "\n",
    "* puissant car il possède une importante bibliothèque standard et un très grand nombre de paquets complémentaires dédiés au calcul scientifique et pour de nombreux autres domaines d'application. C'est le langage retenu en Classe Préparatoire aux Grandes Ecoles...\n",
    "\n",
    "C'est un langage **interprété :** pas besoin de compilé le code. L'interpréteur Python lit et exécute directement le code python. Ce qui est un très gros avantage pour l'apprentissage d'un langage informatique car on peut tester progressivement des portions de code au cours du développement d'un programme plus complet.  \n",
    "\n",
    "Ceci est particulièrement favorisée dans un jupyter notebook qui permet d'exécuter du code cellule après cellule.  \n",
    "Mais attention, il est important que les cellules de code soient évaluées dans le bon ordre. Si vous ne respectez pas l'ordre dans lequel les cellules de code sont présentées, le résultat peut être inattendu.  \n",
    "On rappelle que la façon habituelle de lire l'ensemble du notebook consiste à partir de la première cellule de code à taper **`<Maj+Entrée>`** jusqu'à la fin du notebook, de sorte à bien évaluer toutes les cellules de code.  \n",
    "En fait, évaluer un programme sous forme de notebook revient à le découper en petits fragments, et si on exécute ces fragments dans le désordre, on obtient naturellement un programme différent.\n",
    "\n",
    "<!-- \n",
    "    Toto comments\n",
    "-->\n"
   ]
  },
  {
   "cell_type": "code",
   "execution_count": null,
   "metadata": {},
   "outputs": [],
   "source": []
  },
  {
   "cell_type": "markdown",
   "metadata": {},
   "source": [
    "## Les Commentaires :\n",
    "Lorsque l'on rédige un programme informatique il est essentiel de le commenter, pour cela en Python on utilise le caractère **`#`** qui permet d'indiquer que tous les caractères suivants sur la même ligne ne doivent pas être interprétés comme du code d'instruction :"
   ]
  },
  {
   "cell_type": "code",
   "execution_count": null,
   "metadata": {},
   "outputs": [],
   "source": [
    "########################################################################################\n",
    "# Un programme pour calculer et afficher les 19 premières valeurs d'un suite récurente #\n",
    "#######################################################################################\n",
    "# Affecter une valeur initiale demandée en entrée à une variable u\n",
    "u=input(\"entrer la valeur du premier terme u1:\")\n",
    "u=int(u)# Convertir la chaine de caractère u en entier\n",
    "for i in range (1,20):# Répéter 19 fois les instructions suivantes\n",
    "    print(\"u\"+str(i)+\" = \"+str(u))# Afficher en sortie la valeur courante\n",
    "    u=0.5*u+1# Calculer la valeur suivante"
   ]
  },
  {
   "cell_type": "markdown",
   "metadata": {},
   "source": [
    ">Voilà un programme qui est maintenant bien mieux renseigné !\n",
    "\n",
    "<u>Remarque</u>: Le simple fait d'ajouter un **`#`** permet de désactiver une ligne d'instruction sans avoir à l'effacer. Elle ne sera donc pas prise en compte par Python lors de l'exécution du programme. Aussi, il suffira de la décommenter en enlevant ce **`#`** pour la réactiver plus tard si besoin..."
   ]
  },
  {
   "cell_type": "markdown",
   "metadata": {},
   "source": [
    "##  Variables :"
   ]
  },
  {
   "cell_type": "markdown",
   "metadata": {},
   "source": [
    "Dans la mémoire vive de notre ordinateur, nous créons des boîtes (les variables) dans lesquelles nous mettons des valeurs :"
   ]
  },
  {
   "cell_type": "code",
   "execution_count": null,
   "metadata": {
    "collapsed": true
   },
   "outputs": [],
   "source": [
    "maPremiereVariable='Hello World!'"
   ]
  },
  {
   "cell_type": "markdown",
   "metadata": {},
   "source": [
    "Pour déclarer une variable en Python, il suffit de la nommer directement (sans autre mot clé comme var, int, ...).  \n",
    "Pour affecter une valeur à la variable on utilise le symbole **`=`** et Python lui attribue de façon dynamique un **type** correspondant à cette valeur."
   ]
  },
  {
   "cell_type": "markdown",
   "metadata": {},
   "source": [
    "Le premier programme qu'écrit tout apprentis programmeur est le fameux [\"Hello World!\"](https://fr.wikipedia.org/wiki/Hello_world), pour ce faire, exécutez ces deux premières intructions précédente puis suivante :"
   ]
  },
  {
   "cell_type": "code",
   "execution_count": null,
   "metadata": {
    "collapsed": true
   },
   "outputs": [],
   "source": [
    "maPremiereVariable"
   ]
  },
  {
   "cell_type": "markdown",
   "metadata": {},
   "source": [
    "> Un programme informatique est une séquence d'instructions. <img src=\"img/Sequence.svg\" width=\"15%\">\n",
    "\n",
    "> En JavaScript, les instructions sont séparées par un point-virgule.\n",
    "\n",
    "> On observe qu'il n'y a pas de **`;`** à la fin d'une instruction Python, c'est le retour à la ligne qui marque la fin de l'instruction et donc le début de la suivante."
   ]
  },
  {
   "cell_type": "markdown",
   "metadata": {},
   "source": [
    "##  Type :"
   ]
  },
  {
   "cell_type": "markdown",
   "metadata": {},
   "source": [
    "La fonction **`type()`** renvoie le type de la variable :"
   ]
  },
  {
   "cell_type": "code",
   "execution_count": null,
   "metadata": {
    "collapsed": true
   },
   "outputs": [],
   "source": [
    "type(maPremiereVariable)"
   ]
  },
  {
   "cell_type": "code",
   "execution_count": null,
   "metadata": {
    "collapsed": true
   },
   "outputs": [],
   "source": [
    "maSecondeVariable=5\n",
    "maSecondeVariable, type(maSecondeVariable)"
   ]
  },
  {
   "cell_type": "code",
   "execution_count": null,
   "metadata": {
    "collapsed": true
   },
   "outputs": [],
   "source": [
    "maTroisiemeVariable=5.0\n",
    "maTroisiemeVariable, type(maTroisiemeVariable)"
   ]
  },
  {
   "cell_type": "code",
   "execution_count": null,
   "metadata": {
    "collapsed": true
   },
   "outputs": [],
   "source": [
    "maQuatriemeVariable=1+2j\n",
    "maQuatriemeVariable, type(maQuatriemeVariable)"
   ]
  },
  {
   "cell_type": "markdown",
   "metadata": {},
   "source": [
    "> Voici donc quelques types de variables :\n",
    "* **`str`** pour string, une chaine de caractères alphanumériques ;\n",
    "* **`int`** pour integer, un nombre entier ;\n",
    "* **`float`** un nombre [flottant](https://fr.wikipedia.org/wiki/Virgule_flottante), représentant un nombre réel ;\n",
    "* **`complex`** un nombre complexe."
   ]
  },
  {
   "cell_type": "markdown",
   "metadata": {},
   "source": [
    "## Entrée de données :\n",
    "\n",
    "Il est parfois nécessaire d'entrer des données pour attribuer sa valeur à une variable. On utilise pour cela la fonction **`input()`**.\n",
    "> Exécuter cette cellule plusieurs fois pour essayer avec des entrées de différents types..."
   ]
  },
  {
   "cell_type": "code",
   "execution_count": null,
   "metadata": {
    "collapsed": true
   },
   "outputs": [],
   "source": [
    "maVariable=input(\"Entrer une valeur d'un type quelconque : \")\n",
    "maVariable, type(maVariable)"
   ]
  },
  {
   "cell_type": "markdown",
   "metadata": {},
   "source": [
    "> On observe que le type renvoyé par cette cellule est toujours une chaines de caractères alphanumériques.  \n",
    "Il sera donc nécessaire de changer ce type en nombre pour pouvoir utiliser cette variable dans des opérations de calculs arythmétiques, et inversement pour des opérations sur des chaines de caractères."
   ]
  },
  {
   "cell_type": "markdown",
   "metadata": {
    "collapsed": true
   },
   "source": [
    "Les fonctions de conversion de type qui nous seront utiles ici sont **`int()`**, **`float()`**, **`str()`**."
   ]
  },
  {
   "cell_type": "code",
   "execution_count": null,
   "metadata": {},
   "outputs": [],
   "source": [
    "maNouvelleVariable=float(input(\"Entrer un réel : \"))\n",
    "maNouvelleVariable, type(maNouvelleVariable)"
   ]
  },
  {
   "cell_type": "markdown",
   "metadata": {},
   "source": [
    "2) Dans la cellule suivante, modifier les deux premières instructions de notre programme pour les résumer sur une ligne :"
   ]
  },
  {
   "cell_type": "code",
   "execution_count": null,
   "metadata": {},
   "outputs": [],
   "source": [
    "u=input(\"entrer la valeur du premier terme u1:\")\n",
    "u=int(u)"
   ]
  },
  {
   "cell_type": "markdown",
   "metadata": {
    "collapsed": true
   },
   "source": [
    "## Opération de calcul sur les nombres :"
   ]
  },
  {
   "cell_type": "markdown",
   "metadata": {},
   "source": [
    "Les opérateurs arithmétiques de Python 3 sont :\n",
    "\n",
    "| Symbole | Opération    |\n",
    "|---------|--------------|\n",
    "| +       | Addition     |\n",
    "| -       | Soustraction |\n",
    "| *       | Multiplication |\n",
    "| /       | Division     |\n",
    "| //      | Division partie entière |\n",
    "| **      | Puissance |\n",
    "| %       | Modulo       |\n",
    "\n",
    "Pour observer les fonctionnalités de la machine à calculer Python, rendez-vous sur le bloc note [Arithmétique](Arithmetique-Le_BN_pour_calculer.ipynb)"
   ]
  },
  {
   "cell_type": "markdown",
   "metadata": {},
   "source": [
    "Ces opérations arithmétiques s'appliquent aussi entre des variables de type nombre et on peut en mémoriser le résultat dans une autre variable :"
   ]
  },
  {
   "cell_type": "code",
   "execution_count": null,
   "metadata": {},
   "outputs": [],
   "source": [
    "a,b=5,12\n",
    "c=a+b\n",
    "c"
   ]
  },
  {
   "cell_type": "markdown",
   "metadata": {},
   "source": [
    "Elles vont donc nous permettre de faire évoluer les variables de type nombre dans notre programme :"
   ]
  },
  {
   "cell_type": "code",
   "execution_count": null,
   "metadata": {},
   "outputs": [],
   "source": [
    "u=0.5*u+1\n",
    "u"
   ]
  },
  {
   "cell_type": "markdown",
   "metadata": {},
   "source": [
    "> Exécutez la cellule de code précédente en appuyant sur les touches **`<Ctrl+Entrée>`** plusieures fois de suite pour observer l'évolution de notre suite."
   ]
  },
  {
   "cell_type": "markdown",
   "metadata": {},
   "source": [
    "Le code d'incrémentation **`i++`** ou de décrémentation **`i--`** n'existant pas en Python, on doit donc, après avoir déclaré et initialisé notre variable :"
   ]
  },
  {
   "cell_type": "code",
   "execution_count": null,
   "metadata": {
    "collapsed": true
   },
   "outputs": [],
   "source": [
    "i=0"
   ]
  },
  {
   "cell_type": "markdown",
   "metadata": {},
   "source": [
    "utiliser pour incrémenter :"
   ]
  },
  {
   "cell_type": "code",
   "execution_count": null,
   "metadata": {},
   "outputs": [],
   "source": [
    "i+=1\n",
    "i"
   ]
  },
  {
   "cell_type": "markdown",
   "metadata": {},
   "source": [
    "et pour décrémenter :"
   ]
  },
  {
   "cell_type": "code",
   "execution_count": null,
   "metadata": {},
   "outputs": [],
   "source": [
    "i-=1\n",
    "i"
   ]
  },
  {
   "cell_type": "markdown",
   "metadata": {},
   "source": [
    "> Exécutez les deux cellules de code précédentes en appuyant sur les touches **`<Ctrl+Entrée>`** plusieures fois de suite. \n",
    "Essayez aussi avec des valeurs de $pas\\neq1$..."
   ]
  },
  {
   "cell_type": "markdown",
   "metadata": {
    "collapsed": true
   },
   "source": [
    "## Opération sur les chaines de caractères alphanumériques :"
   ]
  },
  {
   "cell_type": "markdown",
   "metadata": {},
   "source": []
  },
  {
   "cell_type": "markdown",
   "metadata": {
    "collapsed": true
   },
   "source": [
    "## Affichage d'un résultat en sortie :"
   ]
  },
  {
   "cell_type": "markdown",
   "metadata": {},
   "source": []
  },
  {
   "cell_type": "markdown",
   "metadata": {
    "collapsed": true
   },
   "source": [
    "## Boucle de répétitions"
   ]
  },
  {
   "cell_type": "markdown",
   "metadata": {},
   "source": [
    "La notion de boucle est fondamentale en informatique. Une boucle permet d'exécuter plusieurs fois des instructions qui ne sont inscrites qu'une seule fois dans le code.\n",
    "<img src=\"img/BoucleFor.svg\" width=\"25%\">\n",
    "\n",
    "Il existe différentes structures de boucles en programmation Python, voici celle d'une boucle for :\n",
    "``` python\n",
    "# Début de la boucle\n",
    "for initialisation, condition, modification :\n",
    "\tInstruction 1\n",
    "\tInstruction 2\n",
    "\t...\n",
    "    Dernière Instruction\n",
    "# fin de la boucle et suite du programme\n",
    "```\n",
    "Les instructions inscrites dans la boucle forme un bloc d'instructions. Elles seront répétées tant que la condition de répétition est vrai.  \n",
    "Dès que la condition de répétition est fausse le programme sort de la boucle et se poursuit au délà.  \n",
    "L'initialisation déclare une variable et lui affecte une valeur initiale par exemple var i = 0.\n",
    "La modification fait évoluer cette variable de façon régulière à chaque tour de boucle, par exemple par incrémentation i++.\n",
    "La condition consiste donc à faire un test binaire (vrai ou faux) sur la valeur de la variable i. Puisque i évolue à chaque tour de boucle, le résultat du test deviendra donc faux au bout d'un nombre fini d'itération. Ce test s'appuie sur des opérateurs relationnels afin d'établir une comparaison entre la variable i et la valeur limite de répétition, par exemple i < 8."
   ]
  },
  {
   "cell_type": "markdown",
   "metadata": {},
   "source": [
    "### indentation\n",
    "\n",
    "Python oblige donc le développeur à structurer son code a l'aide des **indentations** : ce sont elles qui détermineront les blocs (séquences d'instructions liées) et non pas les accolades comme dans la majorité des langages.\n",
    "``` javascript\n",
    "for (initialisation ; condition ; modification) {\n",
    "\tInstruction 1 ;\n",
    "\tInstruction 2 ;\n",
    "\t... ;\n",
    "}\n",
    "```\n",
    "L'indentation n'est donc pas ogligatoire en Javascript on pourrait donc programmer comme celà :\n",
    "``` javascript\n",
    "for(var i=0;i<8;i++){ellipse(positionX+entraxe*i,positionY,diametre,diametre);}\n",
    "```  \n",
    "Ce qui est bien évidemment illisible pour un humain \"normal\"...\n",
    "\n",
    "Python oblige donc par nature à produire du code clair et lisible donc facilement maintenable..."
   ]
  },
  {
   "cell_type": "code",
   "execution_count": null,
   "metadata": {
    "collapsed": true
   },
   "outputs": [],
   "source": []
  },
  {
   "cell_type": "code",
   "execution_count": null,
   "metadata": {},
   "outputs": [],
   "source": [
    "truc=(1,20)\n",
    "truc, type(truc)"
   ]
  },
  {
   "cell_type": "code",
   "execution_count": null,
   "metadata": {
    "collapsed": true
   },
   "outputs": [],
   "source": [
    "\n",
    "v=input(\"entrer la valeur du premier terme v1:\")\n",
    "# v=int(v) # Pour convertir en valeur entière\n",
    "v=float(v) # Pour convertir en valeur réelle\n",
    "# for i in range (1,21): # Boucle 20 fois\n",
    "for i in range (1,51): # Boucle 50 fois\n",
    "# print(\"v\"+str(i)+\" = \"+str(v))# Affiche la valeur courante sans condition\n",
    "  if (i>19):# Condition d'affichage de la valeur courante\n",
    "   print(\"v\"+str(i)+\" = \"+str(v))# Affiche la valeur courante\n",
    "  v=3*v-0.5 # Calcule la valeur suivante"
   ]
  },
  {
   "cell_type": "code",
   "execution_count": null,
   "metadata": {
    "collapsed": true
   },
   "outputs": [],
   "source": [
    "for i in range (1,20): # Boucle 19 fois\n",
    "   print(\"u\"+str(i)+\" = \"+str(u))# Affiche la valeur courante sans condition\n",
    "   u=0.5*u+1 # Calcule la valeur suivante "
   ]
  },
  {
   "cell_type": "markdown",
   "metadata": {},
   "source": [
    "> le + permet de faire de la concaténation entre deux chaines de caractères,  \n",
    "il faut donc convertir la valeur numérique en string avec str()."
   ]
  },
  {
   "cell_type": "markdown",
   "metadata": {},
   "source": [
    "2) Dans la cellule ci-dessous, modifier ce programme pour qu'il calcule les 30 premiers termes de la suite u."
   ]
  },
  {
   "cell_type": "code",
   "execution_count": null,
   "metadata": {
    "collapsed": true
   },
   "outputs": [],
   "source": [
    "for i in range (1,31): # Boucle 30 fois    \n",
    "    print(\"u\"+str(i)+\" = \"+str(u))# Affiche la valeur courante sans condition\n",
    "    u=0.5*u+1 # Calcule la valeur suivante"
   ]
  },
  {
   "cell_type": "markdown",
   "metadata": {},
   "source": [
    "3) Créer un nouveau programme pour qu'il calcule les 20 premiers termes de la suite v définie par v(n+1)=0,5*(v(n)+5/v(n))\n",
    "Le premier terme sera demandé à l'utilisateur.\n",
    "\n",
    "4) Que se passe t-il si l'utilisateur entre une valeur non entière?\n",
    "\n",
    "5) Modifier le programme pour que l'utilisateur puisse saisir une valeur réelle. (type float)\n",
    "\n",
    "6) On souhaite l'affichage des termes de rang 20 à 50. Modifier le programme.\n",
    "\n",
    "7) Comparer les derniers termes avec la racine carrée de 5. Que remarquez-vous?\n",
    "\n",
    "Approximation de la racine carrée d'un nombre entier\n",
    "\n",
    "8) Modifier le programme pour qu'il affiche une valeur approchée de la racine carrée d'un nombre entier E, saisi par l'utilisateur en début d' exécution.\n",
    "On pourra se passer de la saisie du premier terme que l'on prendra égal à 1.\n",
    "\n",
    "9) Pour obtenir une valeur approchée de la racine carrée de E avec une erreur inférieure ou égale à 10^(-P), P entier positif, on pourra se référer au sujet 9 page 152 (ABC bac 2018-France Métropolitaine, septembre 2012) et compléter l'algorithme proposé."
   ]
  },
  {
   "cell_type": "code",
   "execution_count": null,
   "metadata": {
    "collapsed": true
   },
   "outputs": [],
   "source": [
    "# Demander à l'utilisateur de saisir une valeur initiale\n",
    "# La valeur récupérer en entrée est de type chaine de caractères\n",
    "v=input(\"entrer la valeur du premier terme v1:\")\n",
    "# v=int(v) # Pour convertir en valeur entière\n",
    "v=float(v) # Pour convertir en valeur réelle\n",
    "# for i in range (1,21): # Boucle 20 fois\n",
    "for i in range (1,51): # Boucle 50 fois\n",
    "# print(\"v\"+str(i)+\" = \"+str(v))# Affiche la valeur courante sans condition\n",
    "  if (i>19):# Condition d'affichage de la valeur courante\n",
    "   print(\"v\"+str(i)+\" = \"+str(v))# Affiche la valeur courante\n",
    "  v=3*v-0.5 # Calcule la valeur suivante"
   ]
  },
  {
   "cell_type": "markdown",
   "metadata": {},
   "source": [
    "La Suite de Fibonacci est définie comme suit:\n",
    "\n",
    "Le premier terme est égal à 1\n",
    "Le deuxième terme est égal à 1\n",
    "A partir du troisième terme, chaque terme est égal à la somme des deux termes précédents.\n",
    "\n",
    "Ainsi la suite de Fibonacci commence par : 1, 1, 2,3,5,8,13, 21,34,55,89, 144....\n",
    "\n",
    "Cette suite possède de nombreuses propriétés intéressantes.\n",
    "\n",
    "Par exemple : \n",
    "\n",
    "Propriété 1:  Le quotient d'un terme par le terme précédent tend vers le nombre d'or.\n",
    "ou encore\n",
    "Propriété 2: La somme des carrés des termes de la suite jusqu'au rang n est égal au produit des termes de rang n et n+1.\n",
    "\n",
    "Ces propriétés peuvent être démontrées, mais il peut être intéressant de les vérifier par simulation.\n",
    "\n",
    "C'est l'objet de ce TP.\n",
    "\n",
    "1) Compléter le programme proposé pour qu'il affiche les n premiers termes de la suite de Fibonacci, n étant une valeur entière saisie par l'utilisateur à l'invitation du programme.\n",
    "\n",
    "2) Ajouter ensuite les instructions nécessaires pour qu'il affiche le quotient du dernier terme (rang n ) par le précédent.\n",
    "En choisissant n assez grand, vous pourrez ainsi visualiser si la propriété 1 semble vraie.\n",
    "\n",
    "3) Ajouter ensuite les instructions nécessaires pour afficher la somme des carrés des termes jusqu'au rang n et comparer ce résultat au produit des termes de rang n et n+1.\n",
    "Vous pourrez ainsi vérifier si la propriété 2 est vérifiée au rang n."
   ]
  },
  {
   "cell_type": "code",
   "execution_count": null,
   "metadata": {
    "collapsed": true
   },
   "outputs": [],
   "source": [
    "#SUITE DE FIBONACCI\n",
    "\n",
    "#Invitation à saisir le rang du dernier terme souhaité\n",
    "n=input(\"saisir n, le rang du dernier terme que vous souhaitez obtenir\")\n",
    "#l'instruction input renvoie une chaîne de caractères que l'on convertit en nombre entier\n",
    "n=int(n)\n",
    "#initialisation par la donnée des deux premiers termes\n",
    "u=1\n",
    "v=1\n",
    "# On commence une boucle qui va calculer et afficher les valeurs successives des termes de la suite \n",
    "for i in range(3,n):\n",
    "  w=u+v"
   ]
  },
  {
   "cell_type": "markdown",
   "metadata": {},
   "source": [
    "## Ressources :"
   ]
  },
  {
   "cell_type": "markdown",
   "metadata": {},
   "source": [
    "* MegaMath\n",
    "* http://www.jdhp.org/docs/atelier_initiation_python_part1/main.html#168  \n",
    "* https://enacit1.epfl.ch/introduction-python/  \n",
    "* http://python.lecoinduprogrammeur.org/category/python-decouvertes/"
   ]
  },
  {
   "cell_type": "code",
   "execution_count": null,
   "metadata": {
    "collapsed": true
   },
   "outputs": [],
   "source": []
  }
 ],
 "metadata": {
  "kernelspec": {
   "display_name": "Python 3",
   "language": "python",
   "name": "python3"
  },
  "language_info": {
   "codemirror_mode": {
    "name": "ipython",
    "version": 3
   },
   "file_extension": ".py",
   "mimetype": "text/x-python",
   "name": "python",
   "nbconvert_exporter": "python",
   "pygments_lexer": "ipython3",
   "version": "3.6.1"
  }
 },
 "nbformat": 4,
 "nbformat_minor": 2
}
