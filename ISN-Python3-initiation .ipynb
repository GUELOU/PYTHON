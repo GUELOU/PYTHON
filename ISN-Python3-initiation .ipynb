{
 "cells": [
  {
   "cell_type": "markdown",
   "metadata": {},
   "source": [
    "# Python 3 : Le BN pour s'initier à la programmation scientifique"
   ]
  },
  {
   "cell_type": "markdown",
   "metadata": {},
   "source": [
    "Nous allons découvrir les bases de la programmation en Python 3 en nous appuyant sur un petit programme de calcul et d'affichage des termes d'une suite définie par récurrence tel que :\n",
    "  \n",
    "Soit $(u_n)_{n\\in\\mathbf{N}}$ la suite définie par $\\left\\lbrace\\begin{array}{l} u_n=\\frac{1}{2}\\times u_{n-1}+1 \\text{ pour } n\\gt 1 \\text{ ;} \\\\ u_1=a \\text{ avec } a \\text{, valeur initiale définie par l'utilisateur.}\\\\ \\end{array}\\right.$\n",
    "\n",
    "que l'on peut simuler par ce premier programme :"
   ]
  },
  {
   "cell_type": "code",
   "execution_count": null,
   "metadata": {
    "collapsed": true
   },
   "outputs": [],
   "source": [
    "u=input(\"entrer la valeur du premier terme u1:\")\n",
    "u=int(u)\n",
    "for i in range (1,20):\n",
    "    print(\"u\"+str(i)+\" = \"+str(u))\n",
    "    u=0.5*u+1"
   ]
  },
  {
   "cell_type": "markdown",
   "metadata": {},
   "source": [
    "1) Exécuter ce programme en sélectionnant sa cellule et en frappant les touches **`<Alt+Entrée>`** et décrire ce qu'il réalise dans la cellule ainsi créée en la basculant du type **`Code`** au type [**`Markdown`**](MarkDown-Le_BN_pour_rapporter.ipynb) :"
   ]
  },
  {
   "cell_type": "markdown",
   "metadata": {},
   "source": [
    "***  \n",
    "> Ce document est un notebook jupyter, si vous n'êtes pas familiarisé avec cet environnement, regardez cette rapide [Introduction](Introduction-Le_BN_pour_explorer.ipynb).  \n",
    "\n",
    ">Les cellules si dessous sont éditables et exécutables. Vous pouvez exécuter une cellule à l'aide du bouton <button class='fa fa-step-forward icon-step-forward btn btn-xs btn-default'></button> ou en utilisant le menu **`Cell>Run...`** ou encore en vous servant des touches :\n",
    "* **`<Maj+Entrée>`** : le code de la cellule est exécuté et le curseur va à la cellule suivante.\n",
    "* **`<Ctrl+Entrée>`** : le code de la cellule est exécuté et le curseur reste sur la même cellule.\n",
    "* **`<Alt+Entrée>`** : le code de la cellule est exécuté et le notebook crée une nouvelle cellule immédiatement après.\n",
    "\n",
    ">Vous pouvez également ajouter une nouvelle cellule à l'aider du bouton <button class='fa fa-plus icon-plus btn btn-xs btn-default'></button>.\n",
    "\n",
    "> Un des avantages principaux des notebooks est de vous permettre de modifier le code que nous avons écrit, et de voir par vous-même comment se comporte le code modifié.  \n",
    "Pour cette raison chaque élève dispose de sa **propre copie** de chaque notebook, ainsi vous pouvez bien sûr apporter toutes les modifications que vous souhaitez à vos notebooks sans affecter ceux des autres élèves et revenir à la version originale en rechargeant un notebook à partir du lien fourni.\n",
    "\n",
    "***"
   ]
  },
  {
   "cell_type": "markdown",
   "metadata": {},
   "source": [
    "*Dans la suite, détaillons un peu toutes les notions d'informatique qui se cachent dans ce premier programme, découvrons plus avant le langage Python et faisons évoluer notre programme...  *"
   ]
  },
  {
   "cell_type": "markdown",
   "metadata": {},
   "source": [
    "## Généralité :\n",
    "Python est un langage de programmation moderne né en 1991, multi-plateforme, open-source, [généraliste](https://fr.wikipedia.org/wiki/Langage_d%C3%A9di%C3%A9), [orienté objet](https://fr.wikipedia.org/wiki/Programmation_orient%C3%A9e_objet) et de [haut niveau](https://fr.wikipedia.org/wiki/Langage_de_haut_niveau).  \n",
    "\n",
    "C'est un langage facile à apprendre, son code est réputé concis et clair : sa syntaxe est très proche d'une notation algorithmique.\n",
    "Cependant, il possède une importante bibliothèque standard et un très grand nombre de paquets complémentaires dédiés au calcul scientifique. C'est le langage retenu en Classe Préparatoire aux Grandes Ecoles...\n",
    "\n",
    "C'est un langage **interprété :**, pas besoin de compilé le code. L'interpréteur Python lit et exécute directement le code python. Ce qui est un très gros avantage pour l'apprentissage d'un langage informatique car \n",
    "<html>\n",
    "<!-- \n",
    "*  exécuter le code pas à pas, instruction après intruction cellule après cellule instruction dans une forme de \n",
    "\n",
    "Il est important que les cellules de code soient évaluées dans le bon ordre. Si vous ne respectez pas l'ordre dans lequel les cellules de code sont présentées, le résultat peut être inattendu. On rappelle que la façon habituelle de lire l'ensemble du notebook consiste à partir de la première cellule, et à taper Maj+Entrée -- ou Shift+Enter -- jusqu'à la fin du notebook, de sorte à bien évaluer toutes les cellules de code.\n",
    "\n",
    "En fait, évaluer un programme sous forme de notebook revient à le découper en petits fragments, et si on exécute ces fragments dans le désordre, on obtient naturellement un programme différent.\n",
    "\n",
    "\n",
    " \n",
    " \n",
    " \n",
    "\n",
    "-->\n",
    "</html>"
   ]
  },
  {
   "cell_type": "markdown",
   "metadata": {},
   "source": [
    "## Les Commentaires :\n",
    "Lorsque l'on rédige un programme informatique il est essentiel de le commenter, pour cela en Python on utilise le caractère **`#`** qui permet d'indiquer que tous les caractères suivants sur la même ligne ne doivent pas être interprétés comme du code d'instruction :"
   ]
  },
  {
   "cell_type": "code",
   "execution_count": null,
   "metadata": {
    "collapsed": true
   },
   "outputs": [],
   "source": [
    "# Un programme pour calculer et afficher les 19 premières valeurs d'un suite récurente\n",
    "# Affectation d'une valeur initiale demandée en entrée à une variable u\n",
    "u=input(\"entrer la valeur du premier terme u1:\")\n",
    "u=int(u)# Transtypage de la chaine de caractère u en entier\n",
    "for i in range (1,20):# Boucle 19 fois\n",
    "    print(\"u\"+str(i)+\" = \"+str(u))# Affiche en sortie la valeur courante\n",
    "    u=0.5*u+1# Calcule la valeur suivante"
   ]
  },
  {
   "cell_type": "markdown",
   "metadata": {},
   "source": [
    ">Voilà un programme qui est maintenant bien mieux renseigné !\n",
    "\n",
    "<u>Remarque</u>: Le simple fait d'ajouter un **`#`** permet de désactiver une ligne d'instruction sans avoir à l'effacer. Elle ne sera donc pas prise en compte par Python lors de l'exécution du programme. Aussi, il suffira de la décommenter en enlevant ce **`#`** pour la réactiver plus tard si besoin..."
   ]
  },
  {
   "cell_type": "markdown",
   "metadata": {},
   "source": [
    "##  Les Variables et leur type :"
   ]
  },
  {
   "cell_type": "markdown",
   "metadata": {},
   "source": [
    "Dans la mémoire vive de notre ordinateur, nous créons des boîtes (les variables) dans lesquelles nous mettons des valeurs :"
   ]
  },
  {
   "cell_type": "code",
   "execution_count": null,
   "metadata": {
    "collapsed": true
   },
   "outputs": [],
   "source": [
    "maPremiereVariable='Hello World!'"
   ]
  },
  {
   "cell_type": "markdown",
   "metadata": {},
   "source": [
    "Pour déclarer une variable en Python, il suffit de la nommer directement (sans autre mot clé comme var, int, ...).  \n",
    "Pour affecter une valeur à la variable on utilise le symbole **`=`** et Python lui attribue de façon dynamique un type correspondant à cette valeur."
   ]
  },
  {
   "cell_type": "markdown",
   "metadata": {},
   "source": [
    "Le premier programme qu'écrit tout apprentis programmeur est le fameux [\"Hello World!\"](https://fr.wikipedia.org/wiki/Hello_world), pour ce faire, exécutez ces deux premières intructions précédente puis suivante :"
   ]
  },
  {
   "cell_type": "code",
   "execution_count": null,
   "metadata": {
    "collapsed": true
   },
   "outputs": [],
   "source": [
    "maPremiereVariable"
   ]
  },
  {
   "cell_type": "markdown",
   "metadata": {},
   "source": [
    "> On observe qu'il n'y a pas de **`;`** à la fin d'une instruction Python, c'est le retour à la ligne qui marque la fin de l'instruction et donc le début de la suivante."
   ]
  },
  {
   "cell_type": "markdown",
   "metadata": {},
   "source": [
    "La fonction **`type()`** renvoie le type de la variable :"
   ]
  },
  {
   "cell_type": "code",
   "execution_count": null,
   "metadata": {
    "collapsed": true
   },
   "outputs": [],
   "source": [
    "type(maPremiereVariable)"
   ]
  },
  {
   "cell_type": "code",
   "execution_count": null,
   "metadata": {
    "collapsed": true
   },
   "outputs": [],
   "source": [
    "maSecondeVariable=5\n",
    "maSecondeVariable, type(maSecondeVariable)"
   ]
  },
  {
   "cell_type": "code",
   "execution_count": null,
   "metadata": {
    "collapsed": true
   },
   "outputs": [],
   "source": [
    "maTroisiemeVariable=5.0\n",
    "maTroisiemeVariable, type(maTroisiemeVariable)"
   ]
  },
  {
   "cell_type": "code",
   "execution_count": null,
   "metadata": {
    "collapsed": true
   },
   "outputs": [],
   "source": [
    "maQuatriemeVariable=1+2j\n",
    "maQuatriemeVariable, type(maQuatriemeVariable)"
   ]
  },
  {
   "cell_type": "markdown",
   "metadata": {},
   "source": [
    "> Voici donc quelques types :\n",
    "* **`str`** pour string, une chaine de caractères alphanumériques ;\n",
    "* **`int`** pour integer, un nombre entier ;\n",
    "* **`float`** un nombre [flottant](https://fr.wikipedia.org/wiki/Virgule_flottante), représentant un nombre réel ;\n",
    "* **`complex`** un nombre complexe."
   ]
  },
  {
   "cell_type": "markdown",
   "metadata": {},
   "source": [
    "## Entrée de données :\n",
    "\n",
    "Il est parfois nécessaire d'entrer des données. On utilise pour cela la fonction **`input()`**.\n",
    "> Exécuter cette cellule plusieurs fois pour essayer avec des entrées de différents types..."
   ]
  },
  {
   "cell_type": "code",
   "execution_count": null,
   "metadata": {
    "collapsed": true
   },
   "outputs": [],
   "source": [
    "maVariable=input(\"Entrer une valeur d'un type quelconque : \")\n",
    "maVariable, type(maVariable)"
   ]
  },
  {
   "cell_type": "markdown",
   "metadata": {},
   "source": [
    "> On observe que le type renvoyé par cette cellule est toujours une chaines de caractères alphanumériques.  \n",
    "Il sera donc nécessaire de changer ce type en nombre pour pouvoir utiliser cette variable dans des opérations de calculs arythmétiques, et inversement pour des opérations sur des chaines de caractères."
   ]
  },
  {
   "cell_type": "markdown",
   "metadata": {
    "collapsed": true
   },
   "source": [
    "Les fonctions de transtypage sont **`int()`**, **`float()`**, **`str()`**."
   ]
  },
  {
   "cell_type": "code",
   "execution_count": null,
   "metadata": {
    "collapsed": true
   },
   "outputs": [],
   "source": [
    "a=int(input(\"Entrer un entier a: \"))\n",
    "type(a)"
   ]
  },
  {
   "cell_type": "code",
   "execution_count": 2,
   "metadata": {},
   "outputs": [
    {
     "name": "stdout",
     "output_type": "stream",
     "text": [
      "Entrer un réel b: 2e-3\n"
     ]
    },
    {
     "data": {
      "text/plain": [
       "float"
      ]
     },
     "execution_count": 2,
     "metadata": {},
     "output_type": "execute_result"
    }
   ],
   "source": [
    "b=float(input(\"Entrer un réel b: \"))\n",
    "type(b)"
   ]
  },
  {
   "cell_type": "code",
   "execution_count": null,
   "metadata": {
    "collapsed": true
   },
   "outputs": [],
   "source": [
    "Opération de calculs ari sur les no"
   ]
  },
  {
   "cell_type": "code",
   "execution_count": null,
   "metadata": {
    "collapsed": true
   },
   "outputs": [],
   "source": [
    "Opération sur les chaines de caractères alphanumérique"
   ]
  },
  {
   "cell_type": "code",
   "execution_count": null,
   "metadata": {
    "collapsed": true
   },
   "outputs": [],
   "source": [
    "Sortie"
   ]
  },
  {
   "cell_type": "code",
   "execution_count": null,
   "metadata": {
    "collapsed": true
   },
   "outputs": [],
   "source": [
    "Boucle"
   ]
  },
  {
   "cell_type": "markdown",
   "metadata": {},
   "source": [
    "## indentation\n",
    "\n",
    "Python oblige donc le développeur à structurer son code a l'aide des ***indentations*** : ce sont elles qui détermineront les blocs (séquences d'instructions liées) et non les accolades comme dans la majorité des langages.\n",
    "\n"
   ]
  },
  {
   "cell_type": "code",
   "execution_count": null,
   "metadata": {
    "collapsed": true
   },
   "outputs": [],
   "source": [
    "\n",
    "v=input(\"entrer la valeur du premier terme v1:\")\n",
    "# v=int(v) # Pour convertir en valeur entière\n",
    "v=float(v) # Pour convertir en valeur réelle\n",
    "# for i in range (1,21): # Boucle 20 fois\n",
    "for i in range (1,51): # Boucle 50 fois\n",
    "# print(\"v\"+str(i)+\" = \"+str(v))# Affiche la valeur courante sans condition\n",
    "  if (i>19):# Condition d'affichage de la valeur courante\n",
    "   print(\"v\"+str(i)+\" = \"+str(v))# Affiche la valeur courante\n",
    "  v=3*v-0.5 # Calcule la valeur suivante"
   ]
  },
  {
   "cell_type": "code",
   "execution_count": null,
   "metadata": {
    "collapsed": true
   },
   "outputs": [],
   "source": [
    "u=input(\"entrer la valeur du premier terme u1:\")"
   ]
  },
  {
   "cell_type": "markdown",
   "metadata": {},
   "source": [
    "> Sert à demander à l'utilisateur de saisir une valeur initiale."
   ]
  },
  {
   "cell_type": "code",
   "execution_count": null,
   "metadata": {
    "collapsed": true
   },
   "outputs": [],
   "source": [
    "type(u)"
   ]
  },
  {
   "cell_type": "markdown",
   "metadata": {},
   "source": [
    ">Attention car la valeur récupérée en entrée est de type **`str`** pour string, c'est à dire chaine de caractères.  \n",
    "Il faut donc la convertir en valeur entière"
   ]
  },
  {
   "cell_type": "code",
   "execution_count": null,
   "metadata": {
    "collapsed": true
   },
   "outputs": [],
   "source": [
    "u=int(u) "
   ]
  },
  {
   "cell_type": "code",
   "execution_count": null,
   "metadata": {
    "collapsed": true
   },
   "outputs": [],
   "source": [
    "type(u)"
   ]
  },
  {
   "cell_type": "code",
   "execution_count": null,
   "metadata": {
    "collapsed": true
   },
   "outputs": [],
   "source": [
    "for i in range (1,20): # Boucle 19 fois\n",
    "   print(\"u\"+str(i)+\" = \"+str(u))# Affiche la valeur courante sans condition\n",
    "   u=0.5*u+1 # Calcule la valeur suivante "
   ]
  },
  {
   "cell_type": "markdown",
   "metadata": {},
   "source": [
    "> le + permet de faire de la concaténation entre deux chaines de caractères,  \n",
    "il faut donc convertir la valeur numérique en string avec str()."
   ]
  },
  {
   "cell_type": "markdown",
   "metadata": {},
   "source": [
    "2) Dans la cellule ci-dessous, modifier ce programme pour qu'il calcule les 30 premiers termes de la suite u."
   ]
  },
  {
   "cell_type": "code",
   "execution_count": null,
   "metadata": {
    "collapsed": true
   },
   "outputs": [],
   "source": [
    "for i in range (1,31): # Boucle 30 fois    \n",
    "    print(\"u\"+str(i)+\" = \"+str(u))# Affiche la valeur courante sans condition\n",
    "    u=0.5*u+1 # Calcule la valeur suivante"
   ]
  },
  {
   "cell_type": "markdown",
   "metadata": {},
   "source": [
    "3) Modifier ce programme pour qu'il calcule les 20 premiers termes de la suite v définie par v(n+1)=0,5*(v(n)+5/v(n))\n",
    "Le premier terme sera demandé à l'utilisateur.\n",
    "\n",
    "4) Que se passe t-il si l'utilisateur entre une valeur non entière?\n",
    "\n",
    "5) Modifier le programme pour que l'utilisateur puisse saisir une valeur réelle. (type float)\n",
    "\n",
    "6) On souhaite l'affichage des termes de rang 20 à 50. Modifier le programme.\n",
    "\n",
    "7) Comparer les derniers termes avec la racine carrée de 5. Que remarquez-vous?\n",
    "\n",
    "Approximation de la racine carrée d'un nombre entier\n",
    "\n",
    "8) Modifier le programme pour qu'il affiche une valeur approchée de la racine carrée d'un nombre entier E, saisi par l'utilisateur en début d' exécution.\n",
    "On pourra se passer de la saisie du premier terme que l'on prendra égal à 1.\n",
    "\n",
    "9) Pour obtenir une valeur approchée de la racine carrée de E avec une erreur inférieure ou égale à 10^(-P), P entier positif, on pourra se référer au sujet 9 page 152 (ABC bac 2018-France Métropolitaine, septembre 2012) et compléter l'algorithme proposé."
   ]
  },
  {
   "cell_type": "code",
   "execution_count": null,
   "metadata": {
    "collapsed": true
   },
   "outputs": [],
   "source": [
    "# Demander à l'utilisateur de saisir une valeur initiale\n",
    "# La valeur récupérer en entrée est de type chaine de caractères\n",
    "v=input(\"entrer la valeur du premier terme v1:\")\n",
    "# v=int(v) # Pour convertir en valeur entière\n",
    "v=float(v) # Pour convertir en valeur réelle\n",
    "# for i in range (1,21): # Boucle 20 fois\n",
    "for i in range (1,51): # Boucle 50 fois\n",
    "# print(\"v\"+str(i)+\" = \"+str(v))# Affiche la valeur courante sans condition\n",
    "  if (i>19):# Condition d'affichage de la valeur courante\n",
    "   print(\"v\"+str(i)+\" = \"+str(v))# Affiche la valeur courante\n",
    "  v=3*v-0.5 # Calcule la valeur suivante"
   ]
  },
  {
   "cell_type": "markdown",
   "metadata": {},
   "source": [
    "La Suite de Fibonacci est définie comme suit:\n",
    "\n",
    "Le premier terme est égal à 1\n",
    "Le deuxième terme est égal à 1\n",
    "A partir du troisième terme, chaque terme est égal à la somme des deux termes précédents.\n",
    "\n",
    "Ainsi la suite de Fibonacci commence par : 1, 1, 2,3,5,8,13, 21,34,55,89, 144....\n",
    "\n",
    "Cette suite possède de nombreuses propriétés intéressantes.\n",
    "\n",
    "Par exemple : \n",
    "\n",
    "Propriété 1:  Le quotient d'un terme par le terme précédent tend vers le nombre d'or.\n",
    "ou encore\n",
    "Propriété 2: La somme des carrés des termes de la suite jusqu'au rang n est égal au produit des termes de rang n et n+1.\n",
    "\n",
    "Ces propriétés peuvent être démontrées, mais il peut être intéressant de les vérifier par simulation.\n",
    "\n",
    "C'est l'objet de ce TP.\n",
    "\n",
    "1) Compléter le programme proposé pour qu'il affiche les n premiers termes de la suite de Fibonacci, n étant une valeur entière saisie par l'utilisateur à l'invitation du programme.\n",
    "\n",
    "2) Ajouter ensuite les instructions nécessaires pour qu'il affiche le quotient du dernier terme (rang n ) par le précédent.\n",
    "En choisissant n assez grand, vous pourrez ainsi visualiser si la propriété 1 semble vraie.\n",
    "\n",
    "3) Ajouter ensuite les instructions nécessaires pour afficher la somme des carrés des termes jusqu'au rang n et comparer ce résultat au produit des termes de rang n et n+1.\n",
    "Vous pourrez ainsi vérifier si la propriété 2 est vérifiée au rang n."
   ]
  },
  {
   "cell_type": "code",
   "execution_count": null,
   "metadata": {
    "collapsed": true
   },
   "outputs": [],
   "source": [
    "#SUITE DE FIBONACCI\n",
    "\n",
    "#Invitation à saisir le rang du dernier terme souhaité\n",
    "n=input(\"saisir n, le rang du dernier terme que vous souhaitez obtenir\")\n",
    "#l'instruction input renvoie une chaîne de caractères que l'on convertit en nombre entier\n",
    "n=int(n)\n",
    "#initialisation par la donnée des deux premiers termes\n",
    "u=1\n",
    "v=1\n",
    "# On commence une boucle qui va calculer et afficher les valeurs successives des termes de la suite \n",
    "for i in range(3,n):\n",
    "  w=u+v"
   ]
  },
  {
   "cell_type": "markdown",
   "metadata": {},
   "source": [
    "http://www.jdhp.org/docs/atelier_initiation_python_part1/main.html#168\n",
    "https://enacit1.epfl.ch/introduction-python/\n",
    "http://python.lecoinduprogrammeur.org/category/python-decouvertes/"
   ]
  }
 ],
 "metadata": {
  "kernelspec": {
   "display_name": "Python 3",
   "language": "python",
   "name": "python3"
  },
  "language_info": {
   "codemirror_mode": {
    "name": "ipython",
    "version": 3
   },
   "file_extension": ".py",
   "mimetype": "text/x-python",
   "name": "python",
   "nbconvert_exporter": "python",
   "pygments_lexer": "ipython3",
   "version": "3.6.1"
  }
 },
 "nbformat": 4,
 "nbformat_minor": 2
}
